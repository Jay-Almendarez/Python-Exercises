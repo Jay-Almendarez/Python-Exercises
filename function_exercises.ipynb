{
 "cells": [
  {
   "cell_type": "markdown",
   "id": "557a40d5-b175-4135-985d-97a09857862a",
   "metadata": {
    "tags": []
   },
   "source": [
    "## 1. Define a function named is_two. It should accept one input and return True if the passed input is either the number or the string 2, False otherwise."
   ]
  },
  {
   "cell_type": "code",
   "execution_count": 2,
   "id": "24cfb4e6-4527-408a-8267-1d95e763f009",
   "metadata": {
    "tags": []
   },
   "outputs": [],
   "source": [
    "def is_two(my_input):   \n",
    "    '''\n",
    "    is_two will determine if my_input is True in the case of the input == 2 or the input == '2'\n",
    "    otherwise, anything not being 2 or '2' will be met with False\n",
    "    \n",
    "    return: boolean\n",
    "    '''\n",
    "    return my_input == 2 or my_input == '2'"
   ]
  },
  {
   "cell_type": "code",
   "execution_count": 3,
   "id": "d958b980-1c03-4bb6-a3d9-65316d0500e3",
   "metadata": {
    "tags": []
   },
   "outputs": [
    {
     "data": {
      "text/plain": [
       "True"
      ]
     },
     "execution_count": 3,
     "metadata": {},
     "output_type": "execute_result"
    }
   ],
   "source": [
    "is_two(2)"
   ]
  },
  {
   "cell_type": "code",
   "execution_count": 4,
   "id": "d1bf79d5-ca52-4114-900c-72c65d3b0e86",
   "metadata": {
    "tags": []
   },
   "outputs": [
    {
     "data": {
      "text/plain": [
       "False"
      ]
     },
     "execution_count": 4,
     "metadata": {},
     "output_type": "execute_result"
    }
   ],
   "source": [
    "is_two(3)"
   ]
  },
  {
   "cell_type": "markdown",
   "id": "ed3db667-c721-40b9-81eb-2566f0d7d2fc",
   "metadata": {},
   "source": [
    "## 2. Define a function named is_vowel. It should return True if the passed string is a vowel, False otherwise."
   ]
  },
  {
   "cell_type": "code",
   "execution_count": 6,
   "id": "0073ee8e-3796-4bfb-b51e-f56d4fb3156d",
   "metadata": {
    "tags": []
   },
   "outputs": [],
   "source": [
    "def is_vowel(my_let):\n",
    "    \n",
    "    '''\n",
    "    is_vowel will determine if my_let is in a list of given characters(vowels). \n",
    "    \n",
    "    return: boolean\n",
    "    \n",
    "    '''\n",
    "    return my_let in list('aeiouAEIOU')"
   ]
  },
  {
   "cell_type": "code",
   "execution_count": 7,
   "id": "2750e8a9-6d4a-4c4c-adb2-cb37b591c1c1",
   "metadata": {
    "tags": []
   },
   "outputs": [
    {
     "data": {
      "text/plain": [
       "True"
      ]
     },
     "execution_count": 7,
     "metadata": {},
     "output_type": "execute_result"
    }
   ],
   "source": [
    "is_vowel('a')"
   ]
  },
  {
   "cell_type": "code",
   "execution_count": 8,
   "id": "047db32c-a14b-472e-862e-98987d08c1ee",
   "metadata": {
    "tags": []
   },
   "outputs": [
    {
     "data": {
      "text/plain": [
       "False"
      ]
     },
     "execution_count": 8,
     "metadata": {},
     "output_type": "execute_result"
    }
   ],
   "source": [
    "is_vowel('b')"
   ]
  },
  {
   "cell_type": "markdown",
   "id": "edc40c59-991d-49f2-b921-7fb9d98bd6bb",
   "metadata": {},
   "source": [
    "## 3. Define a function named is_consonant. It should return True if the passed string is a consonant, False otherwise. Use your is_vowel function to accomplish this."
   ]
  },
  {
   "cell_type": "code",
   "execution_count": 9,
   "id": "ce2d199b-7bf3-4e8f-82d8-17a4ca890fa8",
   "metadata": {
    "tags": []
   },
   "outputs": [],
   "source": [
    "def is_consonant(my_string):\n",
    "    \n",
    "    '''\n",
    "    similar to the last exercise,\n",
    "    is_consonant will do the opposite of is_vowel and determine if letter (input from user) is not in a list of given characters(vowels).\n",
    "    \n",
    "    return: boolean\n",
    "    \n",
    "    '''\n",
    "    return not is_vowel(my_string)"
   ]
  },
  {
   "cell_type": "code",
   "execution_count": 10,
   "id": "df64c149-80a7-4548-9037-83fa6a8ef66e",
   "metadata": {
    "tags": []
   },
   "outputs": [
    {
     "data": {
      "text/plain": [
       "True"
      ]
     },
     "execution_count": 10,
     "metadata": {},
     "output_type": "execute_result"
    }
   ],
   "source": [
    "is_consonant('b')"
   ]
  },
  {
   "cell_type": "code",
   "execution_count": 11,
   "id": "e2cc8e70-53aa-4b42-947e-5dcf05bf0a85",
   "metadata": {
    "tags": []
   },
   "outputs": [
    {
     "data": {
      "text/plain": [
       "False"
      ]
     },
     "execution_count": 11,
     "metadata": {},
     "output_type": "execute_result"
    }
   ],
   "source": [
    "is_consonant('e')"
   ]
  },
  {
   "cell_type": "markdown",
   "id": "288027dd-7225-4c7e-abf9-4c1843b4dcee",
   "metadata": {},
   "source": [
    "## 4. Define a function that accepts a string that is a word. The function should capitalize the first letter of the word if the word starts with a consonant."
   ]
  },
  {
   "cell_type": "code",
   "execution_count": 14,
   "id": "10ae2edf-2a85-47e2-a88f-504d6953afa8",
   "metadata": {
    "tags": []
   },
   "outputs": [],
   "source": [
    "def no_cap_capn(my_string):\n",
    "\n",
    "    '''\n",
    "    The function no_cap_capn will determine if a word (input from user) begins with a vowel[-0]\n",
    "    (yes I know 'negative zero' is the same as zero but I figure might as well since I asked)\n",
    "    and will capitalize the first letter.\n",
    "    Otherwise, a print message will state, to try a consonant.\n",
    "    '''\n",
    "    if my_string[-0].lower() not in ['a','e','i','o','u']:\n",
    "        return my_string.capitalize()\n",
    "    else:\n",
    "        return my_string"
   ]
  },
  {
   "cell_type": "code",
   "execution_count": 15,
   "id": "dbc3b299-ed75-45d9-8b5c-d4fbdcf21331",
   "metadata": {
    "tags": []
   },
   "outputs": [
    {
     "data": {
      "text/plain": [
       "'Capitalize'"
      ]
     },
     "execution_count": 15,
     "metadata": {},
     "output_type": "execute_result"
    }
   ],
   "source": [
    "no_cap_capn('capitalize')"
   ]
  },
  {
   "cell_type": "code",
   "execution_count": 16,
   "id": "1499c258-8fdc-4529-9397-9432628ab51e",
   "metadata": {
    "tags": []
   },
   "outputs": [
    {
     "data": {
      "text/plain": [
       "'Capitalize'"
      ]
     },
     "execution_count": 16,
     "metadata": {},
     "output_type": "execute_result"
    }
   ],
   "source": [
    "no_cap_capn('Capitalize')"
   ]
  },
  {
   "cell_type": "markdown",
   "id": "6222a29c-8ffa-47cc-9968-10c87435d597",
   "metadata": {},
   "source": [
    "## 5. Define a function named calculate_tip. It should accept a tip percentage (a number between 0 and 1) and the bill total, and return the amount to tip."
   ]
  },
  {
   "cell_type": "code",
   "execution_count": 17,
   "id": "d562c4ac-9696-4e26-a7a8-8654bc037b90",
   "metadata": {
    "tags": []
   },
   "outputs": [],
   "source": [
    "def calculate_tip(bill_total, tip_percent):\n",
    "    '''\n",
    "    The function calculate_tip will determine what amount to tip based off of your input total bill\n",
    "    and the percentage (in decimal form) of the tip you want to leave also input by user.\n",
    "    \n",
    "    return: float\n",
    "    \n",
    "    '''\n",
    "    return (bill_total * tip_percent)"
   ]
  },
  {
   "cell_type": "code",
   "execution_count": 18,
   "id": "fd215bfb-74b6-43d8-b37e-9ea45d4fb460",
   "metadata": {
    "tags": []
   },
   "outputs": [
    {
     "data": {
      "text/plain": [
       "37.5"
      ]
     },
     "execution_count": 18,
     "metadata": {},
     "output_type": "execute_result"
    }
   ],
   "source": [
    "calculate_tip(150,.25)"
   ]
  },
  {
   "cell_type": "markdown",
   "id": "2a711da0-2de9-4d7a-a117-3b0aced3f1d0",
   "metadata": {},
   "source": [
    "## 6. Define a function named apply_discount. It should accept a original price, and a discount percentage, and return the price after the discount is applied."
   ]
  },
  {
   "cell_type": "code",
   "execution_count": 19,
   "id": "a55512fd-64f2-4b20-8c53-e0919985e317",
   "metadata": {
    "tags": []
   },
   "outputs": [],
   "source": [
    "def apply_discount(orig_price, dis_per):\n",
    "    '''\n",
    "    The function apply_discount will determine both the original price and discount percentage from user input.\n",
    "    Then will subtract the multiplied result of the original price and discount percentage from the original price,\n",
    "    giving us the new discounted price.\n",
    "    \n",
    "    result: float\n",
    "    \n",
    "    '''\n",
    "    return orig_price - (orig_price * dis_per)"
   ]
  },
  {
   "cell_type": "code",
   "execution_count": 20,
   "id": "7ad70c4e-2f40-4627-84d4-46b5b3a52fa6",
   "metadata": {
    "tags": []
   },
   "outputs": [
    {
     "data": {
      "text/plain": [
       "112.5"
      ]
     },
     "execution_count": 20,
     "metadata": {},
     "output_type": "execute_result"
    }
   ],
   "source": [
    "apply_discount(150,.25)"
   ]
  },
  {
   "cell_type": "markdown",
   "id": "5968626c-7768-407a-a100-5cc0a62a4a0a",
   "metadata": {},
   "source": [
    "## 7. Define a function named handle_commas. It should accept a string that is a number that contains commas in it as input, and return a number as output."
   ]
  },
  {
   "cell_type": "code",
   "execution_count": 26,
   "id": "167a552d-ba70-44fe-8d75-547ab47134df",
   "metadata": {
    "tags": []
   },
   "outputs": [],
   "source": [
    "def handle_commas(big_num):\n",
    "    '''\n",
    "    The function handle_commas will first determine if a number (input by user) has a comma included in it,\n",
    "    and then if it does, it will replace the character ',' with nothing and return the new number without commas\n",
    "    \n",
    "    return: int\n",
    "    \n",
    "    '''\n",
    "    new_num = ''\n",
    "    for dig in big_num:\n",
    "        if dig == ',':\n",
    "            continue\n",
    "        else:\n",
    "            new_num += dig\n",
    "    return int(new_num)"
   ]
  },
  {
   "cell_type": "code",
   "execution_count": 27,
   "id": "af9a47cc-2a26-48ea-bd64-f84d94301454",
   "metadata": {
    "tags": []
   },
   "outputs": [
    {
     "data": {
      "text/plain": [
       "100000"
      ]
     },
     "execution_count": 27,
     "metadata": {},
     "output_type": "execute_result"
    }
   ],
   "source": [
    "handle_commas('100,000')"
   ]
  },
  {
   "cell_type": "markdown",
   "id": "d142590a-cb00-4a16-84d3-5890b566c01b",
   "metadata": {},
   "source": [
    "## 8. Define a function named get_letter_grade. It should accept a number and return the letter grade associated with that number (A-F)."
   ]
  },
  {
   "cell_type": "code",
   "execution_count": 22,
   "id": "78b4c338-7ebc-4a17-86e4-4d324d4f01eb",
   "metadata": {
    "tags": []
   },
   "outputs": [],
   "source": [
    "def get_letter_grade(grade):\n",
    "    '''\n",
    "    The function get_letter_grade will first determine what category the input falls into, from F to A,\n",
    "    then will return a message stating which letter grade they fall into.\n",
    "    '''\n",
    "    if grade >= 0 and grade <= 59:\n",
    "            return print('A F?! You could do better than that!')\n",
    "    if grade >= 60 and grade <= 66:\n",
    "            return print('A D?! not the worst you could do I guess')\n",
    "    if grade >= 67 and grade <= 79:\n",
    "            return print(\"C's do get degrees, but you could still do better!\")\n",
    "    if grade >= 80 and grade <= 87:\n",
    "            return print(\"That's more like it! You got a B!\")\n",
    "    if grade >= 88 and grade <= 100:\n",
    "        return print(\"An A?! Now you're just showing off!!\")\n",
    "    return grade"
   ]
  },
  {
   "cell_type": "code",
   "execution_count": 23,
   "id": "b2e2f080-5110-4a6d-8732-d6628cb97c93",
   "metadata": {
    "tags": []
   },
   "outputs": [
    {
     "name": "stdout",
     "output_type": "stream",
     "text": [
      "An A?! Now you're just showing off!!\n"
     ]
    }
   ],
   "source": [
    "get_letter_grade(89)"
   ]
  },
  {
   "cell_type": "markdown",
   "id": "e5838cc6-e749-402a-9762-23cd0a2323c2",
   "metadata": {},
   "source": [
    "## 9. Define a function named remove_vowels that accepts a string and returns a string with all the vowels removed."
   ]
  },
  {
   "cell_type": "code",
   "execution_count": 33,
   "id": "6afcffff-34b9-4fce-8d44-d5dd92ec1125",
   "metadata": {
    "tags": []
   },
   "outputs": [],
   "source": [
    "def remove_vowels(word_play):\n",
    "    my_vowel_free = []\n",
    "    for my_let in word_play:\n",
    "        if is_vowel(my_let):\n",
    "            continue\n",
    "        else:\n",
    "            my_vowel_free.append(my_let)\n",
    "    return ''.join(my_vowel_free)"
   ]
  },
  {
   "cell_type": "code",
   "execution_count": 35,
   "id": "7a7ce292-30ed-4649-af79-e28128dfcef1",
   "metadata": {
    "tags": []
   },
   "outputs": [
    {
     "data": {
      "text/plain": [
       "'ztmb'"
      ]
     },
     "execution_count": 35,
     "metadata": {},
     "output_type": "execute_result"
    }
   ],
   "source": [
    "remove_vowels('Ezetimibe')"
   ]
  },
  {
   "cell_type": "markdown",
   "id": "f8fae360-c759-415e-b549-ace8d843c272",
   "metadata": {},
   "source": [
    "## 10. Define a function named normalize_name. It should accept a string and return a valid python identifier, that is:\n",
    "- anything that is not a valid python identifier should be removed\n",
    "- leading and trailing whitespace should be removed\n",
    "- everything should be lowercase\n",
    "- spaces should be replaced with underscores\n",
    "- for example:\n",
    "    - Name will become name\n",
    "    - First Name will become first_name\n",
    "    - % Completed will become completed"
   ]
  },
  {
   "cell_type": "code",
   "execution_count": 36,
   "id": "97a5a083-1b15-4690-a8e2-d0e83980da70",
   "metadata": {
    "tags": []
   },
   "outputs": [],
   "source": [
    "def normalize_name(some_bad_identifier):\n",
    "    my_new_string = ''\n",
    "    '''\n",
    "    This function normalize_name with take an input from a user and \"normalize\" it.\n",
    "    Normalize being \n",
    "    - lowercasing\n",
    "    - stripping of whitespace\n",
    "    - \n",
    "    '''\n",
    "    my_new_string = ''\n",
    "    for c in some_bad_identifier:\n",
    "        if c.isalpha() or c.isdigit() or c == ' ':\n",
    "            my_new_string += c\n",
    "        else:\n",
    "            continue\n",
    "    return my_new_string.lower().strip().replace(' ', '_')"
   ]
  },
  {
   "cell_type": "code",
   "execution_count": 37,
   "id": "99a745a0-ccd3-450b-9c54-a35ed38f56ff",
   "metadata": {
    "tags": []
   },
   "outputs": [
    {
     "data": {
      "text/plain": [
       "'first_name'"
      ]
     },
     "execution_count": 37,
     "metadata": {},
     "output_type": "execute_result"
    }
   ],
   "source": [
    "normalize_name('FIRST NAME')"
   ]
  },
  {
   "cell_type": "markdown",
   "id": "49207d3e-f31d-4eb3-a8ee-7f0efad3c892",
   "metadata": {},
   "source": [
    "## 11. Write a function named cumulative_sum that accepts a list of numbers and returns a list that is the cumulative sum of the numbers in the list.\n",
    "- cumulative_sum([1, 1, 1]) returns [1, 2, 3]\n",
    "- cumulative_sum([1, 2, 3, 4]) returns [1, 3, 6, 10]"
   ]
  },
  {
   "cell_type": "code",
   "execution_count": 38,
   "id": "0d08e3bb-9853-4a84-9107-a2905296f0d6",
   "metadata": {
    "tags": []
   },
   "outputs": [],
   "source": [
    "my_old_list = [1,2,3,4]"
   ]
  },
  {
   "cell_type": "code",
   "execution_count": 42,
   "id": "14424f67-ea09-48ac-b994-f2283aa4ee76",
   "metadata": {
    "tags": []
   },
   "outputs": [],
   "source": [
    "my_new_list, num_sum = [], 0\n",
    "for i in my_old_list:\n",
    "    num_sum += i\n",
    "    my_new_list.append(num_sum)"
   ]
  },
  {
   "cell_type": "code",
   "execution_count": 43,
   "id": "a9282951-c63f-4ad8-8f2b-aee54a60be21",
   "metadata": {
    "tags": []
   },
   "outputs": [
    {
     "data": {
      "text/plain": [
       "[1, 3, 6, 10]"
      ]
     },
     "execution_count": 43,
     "metadata": {},
     "output_type": "execute_result"
    }
   ],
   "source": [
    "my_new_list"
   ]
  },
  {
   "cell_type": "code",
   "execution_count": 47,
   "id": "d81c95dd-e3f4-4f40-a18e-f505567b58de",
   "metadata": {
    "tags": []
   },
   "outputs": [],
   "source": [
    "def cumulative_sum(some_list):\n",
    "    my_new_list, num_sum = [ ], 0\n",
    "    for i in some_list:\n",
    "        num_sum += i\n",
    "        my_new_list.append(num_sum)\n",
    "    return my_new_list"
   ]
  },
  {
   "cell_type": "code",
   "execution_count": 48,
   "id": "2c1d2e19-92cb-4829-b264-ff5f448aabb9",
   "metadata": {
    "tags": []
   },
   "outputs": [
    {
     "data": {
      "text/plain": [
       "[1, 3, 6, 10]"
      ]
     },
     "execution_count": 48,
     "metadata": {},
     "output_type": "execute_result"
    }
   ],
   "source": [
    "cumulative_sum([1, 2, 3, 4])"
   ]
  }
 ],
 "metadata": {
  "kernelspec": {
   "display_name": "Python 3 (ipykernel)",
   "language": "python",
   "name": "python3"
  },
  "language_info": {
   "codemirror_mode": {
    "name": "ipython",
    "version": 3
   },
   "file_extension": ".py",
   "mimetype": "text/x-python",
   "name": "python",
   "nbconvert_exporter": "python",
   "pygments_lexer": "ipython3",
   "version": "3.11.3"
  }
 },
 "nbformat": 4,
 "nbformat_minor": 5
}
