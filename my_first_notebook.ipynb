{
 "cells": [
  {
   "cell_type": "markdown",
   "id": "a9b43e7d",
   "metadata": {},
   "source": [
    "Go ahead and print my first python statement"
   ]
  },
  {
   "cell_type": "code",
   "execution_count": 3,
   "id": "64de9271",
   "metadata": {},
   "outputs": [
    {
     "name": "stdout",
     "output_type": "stream",
     "text": [
      "Hello World!\n"
     ]
    }
   ],
   "source": [
    "print('Hello World!')"
   ]
  },
  {
   "cell_type": "code",
   "execution_count": 1,
   "id": "35c5d71c",
   "metadata": {},
   "outputs": [],
   "source": [
    "x = (2+3) * 5"
   ]
  },
  {
   "cell_type": "code",
   "execution_count": 2,
   "id": "6484a36f",
   "metadata": {},
   "outputs": [
    {
     "name": "stdout",
     "output_type": "stream",
     "text": [
      "25\n"
     ]
    }
   ],
   "source": [
    "print(x)"
   ]
  },
  {
   "cell_type": "markdown",
   "id": "a9162bba",
   "metadata": {},
   "source": [
    "Using escape 'M' changes the call to 'Markdown'"
   ]
  },
  {
   "cell_type": "markdown",
   "id": "428779ea",
   "metadata": {},
   "source": [
    "Using escape 'B' makes a new cell below this one"
   ]
  },
  {
   "cell_type": "markdown",
   "id": "9dbb01fa",
   "metadata": {},
   "source": [
    "Using escape D,D (clicking 'D' twice deletes a cell"
   ]
  }
 ],
 "metadata": {
  "kernelspec": {
   "display_name": "Python 3 (ipykernel)",
   "language": "python",
   "name": "python3"
  },
  "language_info": {
   "codemirror_mode": {
    "name": "ipython",
    "version": 3
   },
   "file_extension": ".py",
   "mimetype": "text/x-python",
   "name": "python",
   "nbconvert_exporter": "python",
   "pygments_lexer": "ipython3",
   "version": "3.11.3"
  }
 },
 "nbformat": 4,
 "nbformat_minor": 5
}
