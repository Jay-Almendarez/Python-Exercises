{
 "cells": [
  {
   "cell_type": "markdown",
   "id": "183c7ed8-44a8-471f-9e9f-b2800f96ecc5",
   "metadata": {},
   "source": [
    "# 1. Conditional Basics\n",
    "\n",
    "## a. Prompt the user for a day of the week, print out whether the day is Monday or not"
   ]
  },
  {
   "cell_type": "code",
   "execution_count": 168,
   "id": "7a7591b8-7b01-43fd-96df-960918a19879",
   "metadata": {
    "tags": []
   },
   "outputs": [
    {
     "name": "stdin",
     "output_type": "stream",
     "text": [
      "What's today? monday\n"
     ]
    },
    {
     "name": "stdout",
     "output_type": "stream",
     "text": [
      "it is in fact Monday\n"
     ]
    }
   ],
   "source": [
    "day_of_week = (input(\"What's today?\"))\n",
    "if day_of_week.lower() == 'monday':\n",
    "    print('it is in fact Monday')\n",
    "elif day_of_week.lower() != 'monday':\n",
    "    print(\"No I'm pretty sure it's Monday\")"
   ]
  },
  {
   "cell_type": "markdown",
   "id": "1be88d1e-afc3-4f63-a1ce-f5ecf04eeec4",
   "metadata": {},
   "source": [
    "## b. Prompt the user for a day of the week, print out whether the day is a weekday or a weekend"
   ]
  },
  {
   "cell_type": "code",
   "execution_count": 169,
   "id": "b5c316d7-16cd-4fd4-a68d-40e49dd30a50",
   "metadata": {
    "tags": []
   },
   "outputs": [
    {
     "name": "stdin",
     "output_type": "stream",
     "text": [
      "What's today? monday\n"
     ]
    },
    {
     "name": "stdout",
     "output_type": "stream",
     "text": [
      "Darn, not the weekend yet...\n"
     ]
    }
   ],
   "source": [
    "day_of_week = (input(\"What's today?\"))\n",
    "if day_of_week.lower() in ['monday' ,'tuesday' ,'wednesday' ,'thursday' ,'friday']:\n",
    "    print('Darn, not the weekend yet...')\n",
    "elif day_of_week.lower() in ['saturday', 'sunday']:\n",
    "    print(\"It's the Weekend? Why are you here talking to me?\")"
   ]
  },
  {
   "cell_type": "markdown",
   "id": "0d6277a6-ea60-47c6-af95-19eadcccc5c7",
   "metadata": {
    "tags": []
   },
   "source": [
    "## c. Calculate a weekly paycheck, accounting for overtime pay. Create variables and make up values for:\n",
    "- The number of hours worked in one week\n",
    "- The hourly rate\n",
    "\n",
    "## For calculating pay:\n",
    "- For working 40 hours or less, each hour is paid at the hourly rate\n",
    "- For working more than 40 hours\n",
    "    - the first 40 hours are paid at the hourly rate\n",
    "    - each hour after 40 is paid at time and a half (hourly rate * 1.5)"
   ]
  },
  {
   "cell_type": "code",
   "execution_count": 170,
   "id": "e2ba32b7-8ae4-4b2e-93ba-e6158ee75b92",
   "metadata": {
    "tags": []
   },
   "outputs": [
    {
     "name": "stdin",
     "output_type": "stream",
     "text": [
      "How much do you make an hour? 20\n",
      "How many hours did you work? 50\n"
     ]
    },
    {
     "name": "stdout",
     "output_type": "stream",
     "text": [
      "2500.0\n"
     ]
    }
   ],
   "source": [
    "hourly_rate = int(input('How much do you make an hour?'))\n",
    "hours_worked = int(input('How many hours did you work?'))\n",
    "if hours_worked <= 40:\n",
    "    weekly_pay = (hours_worked * hourly_rate)\n",
    "    print(weekly_pay)\n",
    "else:\n",
    "    weekly_pay = (hours_worked * hourly_rate) + (hours_worked * hourly_rate * 1.5)\n",
    "    print(weekly_pay)"
   ]
  },
  {
   "cell_type": "code",
   "execution_count": 171,
   "id": "6f011e25-f254-44ba-b081-1c067c5042e7",
   "metadata": {
    "tags": []
   },
   "outputs": [
    {
     "name": "stdout",
     "output_type": "stream",
     "text": [
      "415.0\n"
     ]
    }
   ],
   "source": [
    "hours_week = 41\n",
    "hourly_rate = 10\n",
    "if hours_week <= 40:\n",
    "    paycheck = hours_week * hourly_rate\n",
    "else:\n",
    "    ot_hours = hours_week - 40\n",
    "paycheck = (hourly_rate * 40) + (ot_hours * hourly_rate * 1.5)\n",
    "print(paycheck)"
   ]
  },
  {
   "cell_type": "markdown",
   "id": "a95b6ba9-939d-45e5-91a3-55f798a81c86",
   "metadata": {},
   "source": [
    "# 2. Loop Basics"
   ]
  },
  {
   "cell_type": "markdown",
   "id": "8267058e-de70-4f5b-862e-90219e1922c5",
   "metadata": {},
   "source": [
    "## a. While"
   ]
  },
  {
   "cell_type": "markdown",
   "id": "42859c8e-6f1e-4587-b019-89b097279797",
   "metadata": {},
   "source": [
    "### i. Create an integer variable i with a value of 5. Create a while loop that runs so long as i is less than or equal to 15. Each loop iteration, output the current value of i, then increment i by one.\n",
    "Your output should look like this:\n",
    "\n",
    "- 5\n",
    "- 6\n",
    "- 7\n",
    "- 8\n",
    "- 9\n",
    "- 10\n",
    "- 11\n",
    "- 12\n",
    "- 13\n",
    "- 14\n",
    "- 15"
   ]
  },
  {
   "cell_type": "code",
   "execution_count": 172,
   "id": "bd1af01c-e3c0-4cfb-91e8-981bd6bb6f67",
   "metadata": {
    "tags": []
   },
   "outputs": [
    {
     "name": "stdout",
     "output_type": "stream",
     "text": [
      "5\n",
      "6\n",
      "7\n",
      "8\n",
      "9\n",
      "10\n",
      "11\n",
      "12\n",
      "13\n",
      "14\n",
      "15\n"
     ]
    }
   ],
   "source": [
    "i = 5\n",
    "while i <= 15:\n",
    "    print(i)\n",
    "    i += 1"
   ]
  },
  {
   "cell_type": "markdown",
   "id": "fe7f19ee-e19e-41e6-a9e5-eaf50f8746af",
   "metadata": {},
   "source": [
    "### ii. Create a while loop that will count by 2's starting with 0 and ending at 100. Follow each number with a new line."
   ]
  },
  {
   "cell_type": "code",
   "execution_count": 173,
   "id": "01d29d84-8e44-40c3-b998-7f6c0df2e0a0",
   "metadata": {},
   "outputs": [
    {
     "name": "stdout",
     "output_type": "stream",
     "text": [
      "0\n",
      "2\n",
      "4\n",
      "6\n",
      "8\n",
      "10\n",
      "12\n",
      "14\n",
      "16\n",
      "18\n",
      "20\n",
      "22\n",
      "24\n",
      "26\n",
      "28\n",
      "30\n",
      "32\n",
      "34\n",
      "36\n",
      "38\n",
      "40\n",
      "42\n",
      "44\n",
      "46\n",
      "48\n",
      "50\n",
      "52\n",
      "54\n",
      "56\n",
      "58\n",
      "60\n",
      "62\n",
      "64\n",
      "66\n",
      "68\n",
      "70\n",
      "72\n",
      "74\n",
      "76\n",
      "78\n",
      "80\n",
      "82\n",
      "84\n",
      "86\n",
      "88\n",
      "90\n",
      "92\n",
      "94\n",
      "96\n",
      "98\n",
      "100\n"
     ]
    }
   ],
   "source": [
    "i = 0\n",
    "while i <= 100:\n",
    "    print(i)\n",
    "    i += 2"
   ]
  },
  {
   "cell_type": "markdown",
   "id": "c819b6ce-a694-4bdf-87b1-47aca4905218",
   "metadata": {},
   "source": [
    "### iii. Create a while loop that starts at 2, and displays the number squared on each line while the number is less than 1,000,000. \n",
    "\n",
    "Output should equal:\n",
    "\n",
    "- 2\n",
    "- 4\n",
    "- 16\n",
    "- 256\n",
    "- 65536"
   ]
  },
  {
   "cell_type": "code",
   "execution_count": 174,
   "id": "a2d6b0a9-8fd5-45b8-8286-d80779abf0f7",
   "metadata": {},
   "outputs": [
    {
     "name": "stdout",
     "output_type": "stream",
     "text": [
      "2\n",
      "4\n",
      "16\n",
      "256\n",
      "65536\n"
     ]
    }
   ],
   "source": [
    "i = 2\n",
    "while i <= 1000000:\n",
    "    print(i)\n",
    "    i **= 2"
   ]
  },
  {
   "cell_type": "markdown",
   "id": "d8be3281-9b6c-42ad-b19a-1a90bf03236f",
   "metadata": {},
   "source": [
    "### iv. Write a while loop that uses print to create the output shown below.\n",
    "\n",
    "- 100\n",
    "- 95\n",
    "- 90\n",
    "- 85\n",
    "- 80\n",
    "- 75\n",
    "- 70\n",
    "- 65\n",
    "- 60\n",
    "- 55\n",
    "- 50\n",
    "- 45\n",
    "- 40\n",
    "- 35\n",
    "- 30\n",
    "- 25\n",
    "- 20\n",
    "- 15\n",
    "- 10\n",
    "- 5"
   ]
  },
  {
   "cell_type": "code",
   "execution_count": 175,
   "id": "ef30f7ce-0207-41b8-a606-d870c706a0d2",
   "metadata": {},
   "outputs": [
    {
     "name": "stdout",
     "output_type": "stream",
     "text": [
      "100\n",
      "95\n",
      "90\n",
      "85\n",
      "80\n",
      "75\n",
      "70\n",
      "65\n",
      "60\n",
      "55\n",
      "50\n",
      "45\n",
      "40\n",
      "35\n",
      "30\n",
      "25\n",
      "20\n",
      "15\n",
      "10\n",
      "5\n"
     ]
    }
   ],
   "source": [
    "i = 100\n",
    "while i >= 5:\n",
    "    print(i)\n",
    "    i -= 5"
   ]
  },
  {
   "cell_type": "markdown",
   "id": "0721e59e-cf88-4fc6-b3df-f5c9271c2658",
   "metadata": {},
   "source": [
    "## b. For Loops"
   ]
  },
  {
   "cell_type": "markdown",
   "id": "d624d6e4-a3f7-418a-b8db-d2809187c95c",
   "metadata": {},
   "source": [
    "### i. Write some code using a for loop that prompts the user for a number, then shows a multiplication table up through 10 for that number."
   ]
  },
  {
   "cell_type": "code",
   "execution_count": 176,
   "id": "a90b0a27-6714-4872-b0f5-f263bcab0e4b",
   "metadata": {},
   "outputs": [
    {
     "name": "stdin",
     "output_type": "stream",
     "text": [
      "What number do you want to multiply? 8\n"
     ]
    },
    {
     "name": "stdout",
     "output_type": "stream",
     "text": [
      "<class 'int'>\n",
      "1 x 8 = 8\n",
      "2 x 8 = 16\n",
      "3 x 8 = 24\n",
      "4 x 8 = 32\n",
      "5 x 8 = 40\n",
      "6 x 8 = 48\n",
      "7 x 8 = 56\n",
      "8 x 8 = 64\n",
      "9 x 8 = 72\n",
      "10 x 8 = 80\n"
     ]
    }
   ],
   "source": [
    "mult_table = int(input('What number do you want to multiply?'))\n",
    "\n",
    "print(type(mult_table))\n",
    "\n",
    "for i in range (1,11):\n",
    "    print(f'{i} x {mult_table} = {i*mult_table}')"
   ]
  },
  {
   "cell_type": "markdown",
   "id": "bd257a74-bdb5-4eed-9ab6-c3def4e35ce9",
   "metadata": {},
   "source": [
    "### ii. Create a for loop that uses print to create the output shown below.\n",
    "\n",
    "- 1\n",
    "- 22\n",
    "- 333\n",
    "- 4444\n",
    "- 55555\n",
    "- 666666\n",
    "- 7777777\n",
    "- 88888888\n",
    "- 999999999"
   ]
  },
  {
   "cell_type": "code",
   "execution_count": 177,
   "id": "83935c85-5649-4e8e-9f79-b4669a435f50",
   "metadata": {},
   "outputs": [
    {
     "name": "stdout",
     "output_type": "stream",
     "text": [
      "1\n",
      "22\n",
      "333\n",
      "4444\n",
      "55555\n",
      "666666\n",
      "7777777\n",
      "88888888\n",
      "999999999\n"
     ]
    }
   ],
   "source": [
    "for i in range (1,10):\n",
    "    print(str(i) *i)"
   ]
  },
  {
   "cell_type": "markdown",
   "id": "e48eaa8d-786f-4e6a-b44d-d03b7f9630e5",
   "metadata": {},
   "source": [
    "## c. break and continue"
   ]
  },
  {
   "cell_type": "markdown",
   "id": "34b40cae-e7a1-4c2d-8922-97e11ef051f1",
   "metadata": {},
   "source": [
    "### i. Write a program that prompts the user for a positive integer. Next write a loop that prints out the numbers from the number the user entered down to 1."
   ]
  },
  {
   "cell_type": "code",
   "execution_count": 178,
   "id": "327563d5-6c2c-4bae-ab66-913995766eeb",
   "metadata": {},
   "outputs": [
    {
     "name": "stdin",
     "output_type": "stream",
     "text": [
      "Please input a positive integer 7\n"
     ]
    },
    {
     "name": "stdout",
     "output_type": "stream",
     "text": [
      "7\n",
      "6\n",
      "5\n",
      "4\n",
      "3\n",
      "2\n",
      "1\n"
     ]
    }
   ],
   "source": [
    "pos_int = int(input('Please input a positive integer'))\n",
    "while pos_int >=1:\n",
    "    print (pos_int)\n",
    "    pos_int -=1"
   ]
  },
  {
   "cell_type": "markdown",
   "id": "5c0f86f2-3010-49fd-a925-657d97483842",
   "metadata": {},
   "source": [
    "### ii. The input function can be used to prompt for input and use that input in your python code. Prompt the user to enter a positive number and write a loop that counts from 0 to that number. (Hints: note that the input function returns a string, so you'll need to convert this to a numeric type.)"
   ]
  },
  {
   "cell_type": "code",
   "execution_count": 179,
   "id": "289458c6-3b41-4fb3-b52f-50729d0eb1f6",
   "metadata": {},
   "outputs": [
    {
     "name": "stdin",
     "output_type": "stream",
     "text": [
      "Please input a positive integer here: 78\n"
     ]
    },
    {
     "name": "stdout",
     "output_type": "stream",
     "text": [
      "0\n",
      "1\n",
      "2\n",
      "3\n",
      "4\n",
      "5\n",
      "6\n",
      "7\n",
      "8\n",
      "9\n",
      "10\n",
      "11\n",
      "12\n",
      "13\n",
      "14\n",
      "15\n",
      "16\n",
      "17\n",
      "18\n",
      "19\n",
      "20\n",
      "21\n",
      "22\n",
      "23\n",
      "24\n",
      "25\n",
      "26\n",
      "27\n",
      "28\n",
      "29\n",
      "30\n",
      "31\n",
      "32\n",
      "33\n",
      "34\n",
      "35\n",
      "36\n",
      "37\n",
      "38\n",
      "39\n",
      "40\n",
      "41\n",
      "42\n",
      "43\n",
      "44\n",
      "45\n",
      "46\n",
      "47\n",
      "48\n",
      "49\n",
      "50\n",
      "51\n",
      "52\n",
      "53\n",
      "54\n",
      "55\n",
      "56\n",
      "57\n",
      "58\n",
      "59\n",
      "60\n",
      "61\n",
      "62\n",
      "63\n",
      "64\n",
      "65\n",
      "66\n",
      "67\n",
      "68\n",
      "69\n",
      "70\n",
      "71\n",
      "72\n",
      "73\n",
      "74\n",
      "75\n",
      "76\n",
      "77\n",
      "78\n"
     ]
    }
   ],
   "source": [
    "pos_int = int(input('Please input a positive integer here:'))\n",
    "x = 0\n",
    "while x <= pos_int:\n",
    "    print (x)\n",
    "    x +=1"
   ]
  },
  {
   "cell_type": "markdown",
   "id": "70370b15-744d-4479-aef0-7883521cdcd2",
   "metadata": {},
   "source": [
    "### iii. Prompt the user for an odd number between 1 and 50. Use a loop and a break statement to continue prompting the user if they enter invalid input. (Hint: use the isdigit method on strings to determine this). Use a loop and the continue statement to output all the odd numbers between 1 and 50, except for the number the user entered.\n",
    "\n",
    "Your output should look like this:\n",
    "\n",
    "- Number to skip is: 27\n",
    "\n",
    "- Here is an odd number: 1\n",
    "- Here is an odd number: 3\n",
    "- Here is an odd number: 5\n",
    "- Here is an odd number: 7\n",
    "- Here is an odd number: 9\n",
    "- Here is an odd number: 11\n",
    "- Here is an odd number: 13\n",
    "- Here is an odd number: 15\n",
    "- Here is an odd number: 17\n",
    "- Here is an odd number: 19\n",
    "- Here is an odd number: 21\n",
    "- Here is an odd number: 23\n",
    "- Here is an odd number: 25\n",
    "- Yikes! Skipping number: 27\n",
    "- Here is an odd number: 29\n",
    "- Here is an odd number: 31\n",
    "- Here is an odd number: 33\n",
    "- Here is an odd number: 35\n",
    "- Here is an odd number: 37\n",
    "- Here is an odd number: 39\n",
    "- Here is an odd number: 41\n",
    "- Here is an odd number: 43\n",
    "- Here is an odd number: 45\n",
    "- Here is an odd number: 47\n",
    "- Here is an odd number: 49"
   ]
  },
  {
   "cell_type": "code",
   "execution_count": 184,
   "id": "000b32cd-9adb-4b46-926b-c5c8115506b0",
   "metadata": {
    "tags": []
   },
   "outputs": [
    {
     "data": {
      "text/plain": [
       "27"
      ]
     },
     "execution_count": 184,
     "metadata": {},
     "output_type": "execute_result"
    }
   ],
   "source": [
    "int(n)"
   ]
  },
  {
   "cell_type": "code",
   "execution_count": 187,
   "id": "7971d1ff-bc57-40b0-a1ad-10875493929a",
   "metadata": {
    "tags": []
   },
   "outputs": [
    {
     "name": "stdin",
     "output_type": "stream",
     "text": [
      "Enter an odd number between 1 and 50 that we'll skip 27\n"
     ]
    },
    {
     "name": "stdout",
     "output_type": "stream",
     "text": [
      "1\n",
      "3\n",
      "5\n",
      "7\n",
      "9\n",
      "11\n",
      "13\n",
      "15\n",
      "17\n",
      "19\n",
      "21\n",
      "23\n",
      "25\n",
      "skip this number: 27\n",
      "29\n",
      "31\n",
      "33\n",
      "35\n",
      "37\n",
      "39\n",
      "41\n",
      "43\n",
      "45\n",
      "47\n",
      "49\n"
     ]
    }
   ],
   "source": [
    "while True:\n",
    "    n = input(\"Enter an odd number between 1 and 50 that we'll skip\")\n",
    "    \n",
    "    if n.isdigit() == False:\n",
    "        print('Invalid entry. Not a number')\n",
    "        continue\n",
    "    n = int(n)\n",
    "    if n % 2 == 0:\n",
    "        print('this is an even number')\n",
    "        continue\n",
    "    if n < 1 or n > 50:\n",
    "        print('invalid entry, not in range')\n",
    "        continue\n",
    "    break\n",
    "    \n",
    "for i in range (1,51,2):\n",
    "    if i == n:\n",
    "        print(f'skip this number: {n}')\n",
    "        continue\n",
    "    print(i)"
   ]
  },
  {
   "cell_type": "markdown",
   "id": "441de28f-a249-41e6-82a9-af98a5f38788",
   "metadata": {},
   "source": [
    "# 3. Fizzbuzz\n",
    "\n",
    "One of the most common interview questions for entry-level programmers is the FizzBuzz test. Developed by Imran Ghory, the test is designed to test basic looping and conditional logic skills.\n",
    "\n",
    "- Write a program that prints the numbers from 1 to 100.\n",
    "- For multiples of three print \"Fizz\" instead of the number\n",
    "- For the multiples of five print \"Buzz\".\n",
    "- For numbers which are multiples of both three and five print \"FizzBuzz\"."
   ]
  },
  {
   "cell_type": "code",
   "execution_count": null,
   "id": "9addc3bd-c86b-493e-83ce-ead0eb492423",
   "metadata": {},
   "outputs": [],
   "source": [
    "for n in range(101):\n",
    "    if n == 0:\n",
    "        continue\n",
    "    if n % 3 == 0 and n % 5 == 0:\n",
    "        print('FizzBuzz')\n",
    "        continue\n",
    "    if n % 3 == 0:\n",
    "        print('Fizz')\n",
    "        continue\n",
    "    if n % 5 == 0:\n",
    "        print('Buzz')\n",
    "        continue\n",
    "    else:\n",
    "        print(n)"
   ]
  },
  {
   "cell_type": "markdown",
   "id": "6ce90b26-d696-4149-a504-07dc1d1996fe",
   "metadata": {},
   "source": [
    "# 4. Display a table of powers.\n",
    "\n",
    "- Prompt the user to enter an integer\n",
    "- Display a table of squares and cubes from 1 to the value entered\n",
    "- Ask if the user wants to continue\n",
    "- Assume that the user will enter valid data\n",
    "- Only continue if the user agrees to\n",
    "\n",
    "### Example Output\n",
    "\n",
    "What number would you like to go up to? 5\n",
    "\n",
    "Here is your table!\n",
    "\n",
    "number | squared | cubed\n",
    "------ | ------- | -----\n",
    "1      | 1       | 1\n",
    "2      | 4       | 8\n",
    "3      | 9       | 27\n",
    "4      | 16      | 64\n",
    "5      | 25      | 125"
   ]
  },
  {
   "cell_type": "code",
   "execution_count": null,
   "id": "54209e97-4c34-4f0f-9695-f41bc927fde2",
   "metadata": {
    "tags": []
   },
   "outputs": [],
   "source": [
    "from tabulate import tabulate"
   ]
  },
  {
   "cell_type": "code",
   "execution_count": null,
   "id": "1a13c381-b3e6-4c7a-b321-f4319bcceb7b",
   "metadata": {
    "tags": []
   },
   "outputs": [],
   "source": [
    "while True:\n",
    "    n = int(input('What number would you like to go up to?'))\n",
    "    table = [['number', 'squared', 'cubed']]\n",
    "    for i in range(1, n + 1):\n",
    "        table.append([i, i ** 2, i ** 3])\n",
    "    print(tabulate(table, headers='firstrow', tablefmt='fancy_grid'))\n",
    "    choice = input(\"Are there more numbers you want to try? (yes/no): \")\n",
    "    if choice.lower() != 'yes':\n",
    "        break"
   ]
  },
  {
   "cell_type": "markdown",
   "id": "6e2e6d75-b3ad-44cc-b191-3fad4c275774",
   "metadata": {},
   "source": [
    "# 5.Convert given number grades into letter grades.\n",
    "\n",
    "- Prompt the user for a numerical grade from 0 to 100\n",
    "- Display the corresponding letter grade\n",
    "- Prompt the user to continue\n",
    "- Assume that the user will enter valid integers for the grades\n",
    "- The application should only continue if the user agrees to\n",
    "- Grade Ranges:\n",
    "    - A : 100 - 88\n",
    "    - B : 87 - 80\n",
    "    - C : 79 - 67\n",
    "    - D : 66 - 60\n",
    "    - F : 59 - 0"
   ]
  },
  {
   "cell_type": "code",
   "execution_count": null,
   "id": "1cdd64b9-be4e-4325-93fd-63c98697789c",
   "metadata": {},
   "outputs": [],
   "source": [
    "while True:\n",
    "    grade = int(input('What grade did you get?'))\n",
    "    if grade >= 0 and grade <= 59:\n",
    "            print('A F?! You could do better than that!')\n",
    "    if grade >= 60 and grade <= 66:\n",
    "            print('A D?! not the worst you could do I guess')\n",
    "    if grade >= 67 and grade <= 79:\n",
    "            print(\"C's do get degrees, but you could still do better!\")\n",
    "    if grade >= 80 and grade <= 87:\n",
    "            print(\"That's more like it! You got a B!\")\n",
    "    if grade >= 88 and grade <= 100:\n",
    "        print(\"An A?! Now you're just showing off!!\")\n",
    "    more_grades = input(\"Are there more numbers you want to try? (yes/no): \")\n",
    "    if more_grades.lower() != 'yes':\n",
    "        break"
   ]
  },
  {
   "cell_type": "markdown",
   "id": "c506d558-a7d7-4a42-9187-bb30e687d603",
   "metadata": {},
   "source": [
    "# 6. Create a list of dictionaries where each dictionary represents a book that you have read. Each dictionary in the list should have the keys title, author, and genre. Loop through the list and print out information about each book."
   ]
  },
  {
   "cell_type": "code",
   "execution_count": null,
   "id": "2711ad19-2fbf-4c8b-8b05-4b4024047f7a",
   "metadata": {
    "tags": []
   },
   "outputs": [],
   "source": [
    "books = [{'name': 'brave new world', 'author': 'aldous huxley', 'genre': 'science fiction'},\n",
    "            {'name': \"a midsummer night's dream\", 'author': 'william shakespeare', 'genre': 'comedy'}, \n",
    "            {'name': 'macbeth', 'author': 'william shakespeare', 'genre': 'tragedy'},\n",
    "            {'name': 'leven thumps and the gateway to foo', 'author': 'obert skye', 'genre': 'fantasy fiction'}]\n",
    "books"
   ]
  },
  {
   "cell_type": "markdown",
   "id": "c96136d5-c2f0-464e-9bb7-6768a4a86a09",
   "metadata": {},
   "source": [
    "## a. Prompt the user to enter a genre, then loop through your books list and print out the titles of all the books in that genre."
   ]
  },
  {
   "cell_type": "code",
   "execution_count": null,
   "id": "fca3dfa1-c4dc-44a8-8dcc-5885d6aed2a3",
   "metadata": {},
   "outputs": [],
   "source": [
    "genre_input = input('type a genre here')\n",
    "for book in books:\n",
    "    if book['author'] == genre_input:\n",
    "        print(book['name'])"
   ]
  }
 ],
 "metadata": {
  "kernelspec": {
   "display_name": "Python 3 (ipykernel)",
   "language": "python",
   "name": "python3"
  },
  "language_info": {
   "codemirror_mode": {
    "name": "ipython",
    "version": 3
   },
   "file_extension": ".py",
   "mimetype": "text/x-python",
   "name": "python",
   "nbconvert_exporter": "python",
   "pygments_lexer": "ipython3",
   "version": "3.11.3"
  }
 },
 "nbformat": 4,
 "nbformat_minor": 5
}
