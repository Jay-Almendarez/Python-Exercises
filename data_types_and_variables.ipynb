{
 "cells": [
  {
   "cell_type": "markdown",
   "id": "77f5907b",
   "metadata": {},
   "source": [
    "1. Identify the data type of the following values:\n",
    "- 99.9\n",
    "- \"False\"\n",
    "- False\n",
    "- '0'\n",
    "- 0\n",
    "- True\n",
    "- 'True'\n",
    "- [{}]\n",
    "- {'a': []}"
   ]
  },
  {
   "cell_type": "code",
   "execution_count": 10,
   "id": "1031b204",
   "metadata": {},
   "outputs": [
    {
     "data": {
      "text/plain": [
       "float"
      ]
     },
     "execution_count": 10,
     "metadata": {},
     "output_type": "execute_result"
    }
   ],
   "source": [
    "type(99.9)"
   ]
  },
  {
   "cell_type": "code",
   "execution_count": 9,
   "id": "d525c1ff",
   "metadata": {},
   "outputs": [
    {
     "data": {
      "text/plain": [
       "str"
      ]
     },
     "execution_count": 9,
     "metadata": {},
     "output_type": "execute_result"
    }
   ],
   "source": [
    "type(\"False\")"
   ]
  },
  {
   "cell_type": "code",
   "execution_count": 11,
   "id": "398ddcc0",
   "metadata": {},
   "outputs": [
    {
     "data": {
      "text/plain": [
       "bool"
      ]
     },
     "execution_count": 11,
     "metadata": {},
     "output_type": "execute_result"
    }
   ],
   "source": [
    "type(False)"
   ]
  },
  {
   "cell_type": "code",
   "execution_count": 12,
   "id": "100d352f",
   "metadata": {},
   "outputs": [
    {
     "data": {
      "text/plain": [
       "str"
      ]
     },
     "execution_count": 12,
     "metadata": {},
     "output_type": "execute_result"
    }
   ],
   "source": [
    "type('0')"
   ]
  },
  {
   "cell_type": "code",
   "execution_count": 13,
   "id": "d33518d6",
   "metadata": {},
   "outputs": [
    {
     "data": {
      "text/plain": [
       "int"
      ]
     },
     "execution_count": 13,
     "metadata": {},
     "output_type": "execute_result"
    }
   ],
   "source": [
    "type(0)"
   ]
  },
  {
   "cell_type": "code",
   "execution_count": 14,
   "id": "5e5e3ef4",
   "metadata": {},
   "outputs": [
    {
     "data": {
      "text/plain": [
       "bool"
      ]
     },
     "execution_count": 14,
     "metadata": {},
     "output_type": "execute_result"
    }
   ],
   "source": [
    "type(True)"
   ]
  },
  {
   "cell_type": "code",
   "execution_count": 15,
   "id": "a736148c",
   "metadata": {},
   "outputs": [
    {
     "data": {
      "text/plain": [
       "str"
      ]
     },
     "execution_count": 15,
     "metadata": {},
     "output_type": "execute_result"
    }
   ],
   "source": [
    "type('True')"
   ]
  },
  {
   "cell_type": "code",
   "execution_count": 16,
   "id": "a0ab8714",
   "metadata": {},
   "outputs": [
    {
     "data": {
      "text/plain": [
       "list"
      ]
     },
     "execution_count": 16,
     "metadata": {},
     "output_type": "execute_result"
    }
   ],
   "source": [
    "type([{}])"
   ]
  },
  {
   "cell_type": "code",
   "execution_count": 17,
   "id": "a5c5b085",
   "metadata": {},
   "outputs": [
    {
     "data": {
      "text/plain": [
       "dict"
      ]
     },
     "execution_count": 17,
     "metadata": {},
     "output_type": "execute_result"
    }
   ],
   "source": [
    "type({'a':[]})"
   ]
  },
  {
   "cell_type": "markdown",
   "id": "8cbd821a",
   "metadata": {},
   "source": [
    "2. What data type would best represent the following?\n",
    "\n",
    "- A term or phrase typed into a search box\n",
    "- Whether or not a user is logged in\n",
    "- A discount amount to apply to a user's shopping cart\n",
    "- Whether or not a coupon code is valid\n",
    "- An email address typed into a registration form\n",
    "- The price of a product\n",
    "- The email addresses collected from a registration form\n",
    "- Information about applicants to Codeup's data science program"
   ]
  },
  {
   "cell_type": "markdown",
   "id": "244bf761",
   "metadata": {},
   "source": [
    "A term or phrase typed into a search box:\n",
    "\n",
    "String"
   ]
  },
  {
   "cell_type": "markdown",
   "id": "3392e20b",
   "metadata": {},
   "source": [
    "Whether or not a user is logged in:\n",
    "\n",
    "Bool"
   ]
  },
  {
   "cell_type": "markdown",
   "id": "74201da1",
   "metadata": {},
   "source": [
    "A discount amount to apply to a user's shopping cart:\n",
    "\n",
    "Float"
   ]
  },
  {
   "cell_type": "markdown",
   "id": "1efd24c9",
   "metadata": {},
   "source": [
    "Whether or not a coupon code is valid:\n",
    "\n",
    "Bool"
   ]
  },
  {
   "cell_type": "markdown",
   "id": "c7a3e4c8",
   "metadata": {},
   "source": [
    "An email address typed into a registration form:\n",
    "\n",
    "String"
   ]
  },
  {
   "cell_type": "markdown",
   "id": "802161b5",
   "metadata": {},
   "source": [
    "The price of a product:\n",
    "\n",
    "Float"
   ]
  },
  {
   "cell_type": "markdown",
   "id": "61465b1f",
   "metadata": {},
   "source": [
    "The email addresses collected from a registration form:\n",
    "\n",
    "List of Strings"
   ]
  },
  {
   "cell_type": "markdown",
   "id": "7c0b3b00",
   "metadata": {},
   "source": [
    "Information about applicants to Codeup's data science program:\n",
    "\n",
    "Dict"
   ]
  },
  {
   "cell_type": "markdown",
   "id": "ae70e41f",
   "metadata": {},
   "source": [
    "3. For each of the following code blocks:\n",
    "\n",
    "- Read the expression and predict the evaluated results\n",
    "\n",
    "- Execute the expression in a Python REPL.\n",
    "    - '1' + 2\n",
    "    - 6 % 4\n",
    "    - type(6 % 4)\n",
    "    - type(type(6 % 4))\n",
    "    - '3 + 4 is ' + 3 + 4\n",
    "    - 0 < 0\n",
    "    - 'False' == False\n",
    "    - True == 'True'\n",
    "    - 5 >= -5\n",
    "    - True or \"42\"\n",
    "    - 6 % 5\n",
    "    - 5 < 4 and 1 == 1\n",
    "    - 'codeup' == 'codeup' and 'codeup' == 'Codeup'\n",
    "    - 4 >= 0 and 1 !== '1'\n",
    "    - 6 % 3 == 0\n",
    "    - 5 % 2 != 0\n",
    "    - [1] + 2\n",
    "    - [1] + [2]\n",
    "    - [1] * 2\n",
    "    - [1] * [2]\n",
    "    - [] + [] == []\n",
    "    - {} + {}"
   ]
  },
  {
   "cell_type": "code",
   "execution_count": 18,
   "id": "0e22db8c",
   "metadata": {},
   "outputs": [
    {
     "ename": "TypeError",
     "evalue": "can only concatenate str (not \"int\") to str",
     "output_type": "error",
     "traceback": [
      "\u001b[0;31m---------------------------------------------------------------------------\u001b[0m",
      "\u001b[0;31mTypeError\u001b[0m                                 Traceback (most recent call last)",
      "Cell \u001b[0;32mIn[18], line 1\u001b[0m\n\u001b[0;32m----> 1\u001b[0m \u001b[38;5;124m'\u001b[39m\u001b[38;5;124m1\u001b[39m\u001b[38;5;124m'\u001b[39m \u001b[38;5;241m+\u001b[39m \u001b[38;5;241m2\u001b[39m\n",
      "\u001b[0;31mTypeError\u001b[0m: can only concatenate str (not \"int\") to str"
     ]
    }
   ],
   "source": [
    "'1' + 2"
   ]
  },
  {
   "cell_type": "code",
   "execution_count": 19,
   "id": "ff5b92f2",
   "metadata": {},
   "outputs": [
    {
     "data": {
      "text/plain": [
       "2"
      ]
     },
     "execution_count": 19,
     "metadata": {},
     "output_type": "execute_result"
    }
   ],
   "source": [
    "6 % 4"
   ]
  },
  {
   "cell_type": "code",
   "execution_count": 20,
   "id": "edec2be9",
   "metadata": {},
   "outputs": [
    {
     "data": {
      "text/plain": [
       "int"
      ]
     },
     "execution_count": 20,
     "metadata": {},
     "output_type": "execute_result"
    }
   ],
   "source": [
    "type(6 % 4)"
   ]
  },
  {
   "cell_type": "code",
   "execution_count": 21,
   "id": "a0407b71",
   "metadata": {},
   "outputs": [
    {
     "data": {
      "text/plain": [
       "type"
      ]
     },
     "execution_count": 21,
     "metadata": {},
     "output_type": "execute_result"
    }
   ],
   "source": [
    "type(type(6 % 4))"
   ]
  },
  {
   "cell_type": "code",
   "execution_count": 22,
   "id": "5bf6a72f",
   "metadata": {},
   "outputs": [
    {
     "ename": "TypeError",
     "evalue": "can only concatenate str (not \"int\") to str",
     "output_type": "error",
     "traceback": [
      "\u001b[0;31m---------------------------------------------------------------------------\u001b[0m",
      "\u001b[0;31mTypeError\u001b[0m                                 Traceback (most recent call last)",
      "Cell \u001b[0;32mIn[22], line 1\u001b[0m\n\u001b[0;32m----> 1\u001b[0m \u001b[38;5;124m'\u001b[39m\u001b[38;5;124m3 + 4 is \u001b[39m\u001b[38;5;124m'\u001b[39m \u001b[38;5;241m+\u001b[39m \u001b[38;5;241m3\u001b[39m \u001b[38;5;241m+\u001b[39m \u001b[38;5;241m4\u001b[39m\n",
      "\u001b[0;31mTypeError\u001b[0m: can only concatenate str (not \"int\") to str"
     ]
    }
   ],
   "source": [
    "'3 + 4 is ' + 3 + 4"
   ]
  },
  {
   "cell_type": "code",
   "execution_count": 23,
   "id": "44ae796e",
   "metadata": {},
   "outputs": [
    {
     "data": {
      "text/plain": [
       "False"
      ]
     },
     "execution_count": 23,
     "metadata": {},
     "output_type": "execute_result"
    }
   ],
   "source": [
    "0 < 0"
   ]
  },
  {
   "cell_type": "code",
   "execution_count": 24,
   "id": "7a1ec615",
   "metadata": {},
   "outputs": [
    {
     "data": {
      "text/plain": [
       "False"
      ]
     },
     "execution_count": 24,
     "metadata": {},
     "output_type": "execute_result"
    }
   ],
   "source": [
    "'False' == False"
   ]
  },
  {
   "cell_type": "code",
   "execution_count": 25,
   "id": "906cb452",
   "metadata": {},
   "outputs": [
    {
     "data": {
      "text/plain": [
       "False"
      ]
     },
     "execution_count": 25,
     "metadata": {},
     "output_type": "execute_result"
    }
   ],
   "source": [
    "True == 'True'"
   ]
  },
  {
   "cell_type": "code",
   "execution_count": 26,
   "id": "1d65a75d",
   "metadata": {},
   "outputs": [
    {
     "data": {
      "text/plain": [
       "True"
      ]
     },
     "execution_count": 26,
     "metadata": {},
     "output_type": "execute_result"
    }
   ],
   "source": [
    "5 >= -5"
   ]
  },
  {
   "cell_type": "code",
   "execution_count": 27,
   "id": "01ff5ef5",
   "metadata": {},
   "outputs": [
    {
     "data": {
      "text/plain": [
       "True"
      ]
     },
     "execution_count": 27,
     "metadata": {},
     "output_type": "execute_result"
    }
   ],
   "source": [
    "True or \"42\""
   ]
  },
  {
   "cell_type": "code",
   "execution_count": 28,
   "id": "e40993d2",
   "metadata": {},
   "outputs": [
    {
     "data": {
      "text/plain": [
       "1"
      ]
     },
     "execution_count": 28,
     "metadata": {},
     "output_type": "execute_result"
    }
   ],
   "source": [
    "6 % 5"
   ]
  },
  {
   "cell_type": "code",
   "execution_count": 29,
   "id": "84129cc1",
   "metadata": {},
   "outputs": [
    {
     "data": {
      "text/plain": [
       "False"
      ]
     },
     "execution_count": 29,
     "metadata": {},
     "output_type": "execute_result"
    }
   ],
   "source": [
    "5 < 4 and 1 == 1"
   ]
  },
  {
   "cell_type": "code",
   "execution_count": 30,
   "id": "eb654a78",
   "metadata": {},
   "outputs": [
    {
     "data": {
      "text/plain": [
       "False"
      ]
     },
     "execution_count": 30,
     "metadata": {},
     "output_type": "execute_result"
    }
   ],
   "source": [
    "'codeup' == 'codeup' and 'codeup' == 'Codeup'"
   ]
  },
  {
   "cell_type": "code",
   "execution_count": 31,
   "id": "ad63d489",
   "metadata": {},
   "outputs": [
    {
     "ename": "SyntaxError",
     "evalue": "invalid syntax (383778220.py, line 1)",
     "output_type": "error",
     "traceback": [
      "\u001b[0;36m  Cell \u001b[0;32mIn[31], line 1\u001b[0;36m\u001b[0m\n\u001b[0;31m    4 >= 0 and 1 !== '1'\u001b[0m\n\u001b[0m                   ^\u001b[0m\n\u001b[0;31mSyntaxError\u001b[0m\u001b[0;31m:\u001b[0m invalid syntax\n"
     ]
    }
   ],
   "source": [
    "4 >= 0 and 1 !== '1'"
   ]
  },
  {
   "cell_type": "code",
   "execution_count": 32,
   "id": "6906fa13",
   "metadata": {},
   "outputs": [
    {
     "data": {
      "text/plain": [
       "True"
      ]
     },
     "execution_count": 32,
     "metadata": {},
     "output_type": "execute_result"
    }
   ],
   "source": [
    "6 % 3 == 0"
   ]
  },
  {
   "cell_type": "code",
   "execution_count": 33,
   "id": "365af2b3",
   "metadata": {},
   "outputs": [
    {
     "data": {
      "text/plain": [
       "True"
      ]
     },
     "execution_count": 33,
     "metadata": {},
     "output_type": "execute_result"
    }
   ],
   "source": [
    "5 % 2 != 0"
   ]
  },
  {
   "cell_type": "code",
   "execution_count": 34,
   "id": "5dc8b75d",
   "metadata": {},
   "outputs": [
    {
     "ename": "TypeError",
     "evalue": "can only concatenate list (not \"int\") to list",
     "output_type": "error",
     "traceback": [
      "\u001b[0;31m---------------------------------------------------------------------------\u001b[0m",
      "\u001b[0;31mTypeError\u001b[0m                                 Traceback (most recent call last)",
      "Cell \u001b[0;32mIn[34], line 1\u001b[0m\n\u001b[0;32m----> 1\u001b[0m [\u001b[38;5;241m1\u001b[39m] \u001b[38;5;241m+\u001b[39m \u001b[38;5;241m2\u001b[39m\n",
      "\u001b[0;31mTypeError\u001b[0m: can only concatenate list (not \"int\") to list"
     ]
    }
   ],
   "source": [
    "[1] + 2"
   ]
  },
  {
   "cell_type": "code",
   "execution_count": 35,
   "id": "8b93b03d",
   "metadata": {},
   "outputs": [
    {
     "data": {
      "text/plain": [
       "[1, 2]"
      ]
     },
     "execution_count": 35,
     "metadata": {},
     "output_type": "execute_result"
    }
   ],
   "source": [
    "[1] + [2]"
   ]
  },
  {
   "cell_type": "code",
   "execution_count": 36,
   "id": "3c73c62b",
   "metadata": {},
   "outputs": [
    {
     "data": {
      "text/plain": [
       "[1, 1]"
      ]
     },
     "execution_count": 36,
     "metadata": {},
     "output_type": "execute_result"
    }
   ],
   "source": [
    "[1] * 2"
   ]
  },
  {
   "cell_type": "code",
   "execution_count": 37,
   "id": "1cc5be37",
   "metadata": {},
   "outputs": [
    {
     "ename": "TypeError",
     "evalue": "can't multiply sequence by non-int of type 'list'",
     "output_type": "error",
     "traceback": [
      "\u001b[0;31m---------------------------------------------------------------------------\u001b[0m",
      "\u001b[0;31mTypeError\u001b[0m                                 Traceback (most recent call last)",
      "Cell \u001b[0;32mIn[37], line 1\u001b[0m\n\u001b[0;32m----> 1\u001b[0m [\u001b[38;5;241m1\u001b[39m] \u001b[38;5;241m*\u001b[39m [\u001b[38;5;241m2\u001b[39m]\n",
      "\u001b[0;31mTypeError\u001b[0m: can't multiply sequence by non-int of type 'list'"
     ]
    }
   ],
   "source": [
    "[1] * [2]"
   ]
  },
  {
   "cell_type": "code",
   "execution_count": 38,
   "id": "99dba6de",
   "metadata": {},
   "outputs": [
    {
     "data": {
      "text/plain": [
       "True"
      ]
     },
     "execution_count": 38,
     "metadata": {},
     "output_type": "execute_result"
    }
   ],
   "source": [
    "[] + [] == []"
   ]
  },
  {
   "cell_type": "code",
   "execution_count": 39,
   "id": "5fe5698f",
   "metadata": {},
   "outputs": [
    {
     "ename": "TypeError",
     "evalue": "unsupported operand type(s) for +: 'dict' and 'dict'",
     "output_type": "error",
     "traceback": [
      "\u001b[0;31m---------------------------------------------------------------------------\u001b[0m",
      "\u001b[0;31mTypeError\u001b[0m                                 Traceback (most recent call last)",
      "Cell \u001b[0;32mIn[39], line 1\u001b[0m\n\u001b[0;32m----> 1\u001b[0m {} \u001b[38;5;241m+\u001b[39m {}\n",
      "\u001b[0;31mTypeError\u001b[0m: unsupported operand type(s) for +: 'dict' and 'dict'"
     ]
    }
   ],
   "source": [
    "{} + {}"
   ]
  },
  {
   "cell_type": "markdown",
   "id": "1ed90885",
   "metadata": {},
   "source": [
    "4. Describe the following scenarios. You will need to create and assign variables and use operators."
   ]
  },
  {
   "cell_type": "markdown",
   "id": "998c149f",
   "metadata": {},
   "source": [
    "(Describe the following scenarios. You will need to create and assign variables and use operators)\n",
    "\n",
    "5. You have rented some movies for your kids:\n",
    "- The Little Mermaid for 3 days\n",
    "- Brother Bear for 5 days\n",
    "- Hercules for 1 day\n",
    "\n",
    "If the daily fee to rent a movie is 3 dollars, how much will you have to pay?"
   ]
  },
  {
   "cell_type": "code",
   "execution_count": 2,
   "id": "4d6e0a5a",
   "metadata": {},
   "outputs": [
    {
     "data": {
      "text/plain": [
       "27"
      ]
     },
     "execution_count": 2,
     "metadata": {},
     "output_type": "execute_result"
    }
   ],
   "source": [
    "the_little_mermaid = 3 * 3\n",
    "brother_bear = 5 * 3\n",
    "hercules = 1 * 3\n",
    "total_fee = the_little_mermaid + brother_bear + hercules\n",
    "total_fee"
   ]
  },
  {
   "cell_type": "markdown",
   "id": "3e68b023",
   "metadata": {},
   "source": [
    "(Describe the following scenarios. You will need to create and assign variables and use operators)\n",
    "\n",
    "6. Suppose you're working as a contractor for 3 companies: Google, Amazon and Facebook.\n",
    "\n",
    "They pay you the following hourly rates:\n",
    "- Google: 400 dollars\n",
    "- Amazon: 380 dollars\n",
    "- Facebook: 350 dollars\n",
    "\n",
    "This week you worked: 10 hours for Facebook, 6 hours for Google and 4 hours for Amazon.\n",
    "\n",
    "How much will you receive in payment for this week?"
   ]
  },
  {
   "cell_type": "code",
   "execution_count": 50,
   "id": "fd802e30",
   "metadata": {},
   "outputs": [
    {
     "data": {
      "text/plain": [
       "7420"
      ]
     },
     "execution_count": 50,
     "metadata": {},
     "output_type": "execute_result"
    }
   ],
   "source": [
    "google_hourly_rate = 400\n",
    "amazon_hourly_rate = 380\n",
    "facebook_hourly_rate = 350\n",
    "total_pay = (google_hourly_rate * 6) + (amazon_hourly_rate * 4) + (facebook_hourly_rate * 10)\n",
    "total_pay"
   ]
  },
  {
   "cell_type": "markdown",
   "id": "fcdce6d7",
   "metadata": {},
   "source": [
    "(Describe the following scenarios. You will need to create and assign variables and use operators)\n",
    "\n",
    "7. A student can be enrolled to a class only if the class is not full and the class schedule does not conflict with her current schedule."
   ]
  },
  {
   "cell_type": "code",
   "execution_count": 68,
   "id": "0d40d984",
   "metadata": {},
   "outputs": [
    {
     "data": {
      "text/plain": [
       "False"
      ]
     },
     "execution_count": 68,
     "metadata": {},
     "output_type": "execute_result"
    }
   ],
   "source": [
    "class_room = 'Not Full'\n",
    "class_schedule = 'No Conflict'\n",
    "student_enrolled = class_room == 'Not Full' and class_schedule == 'No Conflict'\n",
    "student_not_enrolled = class_room != 'Not Full' and class_schedule != 'No Conflict'\n",
    "class_room == 'Not Full' and class_schedule == 'No Conflict'"
   ]
  },
  {
   "cell_type": "markdown",
   "id": "04e34ed6",
   "metadata": {},
   "source": [
    "(Describe the following scenarios. You will need to create and assign variables and use operators)\n",
    "\n",
    "8. A product offer can be applied only if people buys more than 2 items, and the offer has not expired. Premium members do not need to buy a specific amount of products."
   ]
  },
  {
   "cell_type": "code",
   "execution_count": 6,
   "id": "53e7c130",
   "metadata": {},
   "outputs": [
    {
     "name": "stdout",
     "output_type": "stream",
     "text": [
      "Do you have premium membership?n\n",
      "How many items were purchased1\n",
      "Is offer still valid?n\n",
      "Product Offer Denied\n"
     ]
    }
   ],
   "source": [
    "premium_member = input('Do you have premium membership?')\n",
    "prod_purchased = int(input('How many items were purchased'))\n",
    "offer_valid = input('Is offer still valid?')\n",
    "is_premium = premium_member.lower() in ['yes', 'y']\n",
    "more_than_enough = prod_purchased > 2\n",
    "valid_coupon = offer_valid.lower() in ['yes', 'y']\n",
    "if (is_premium or more_than_enough) and valid_coupon: print('Product Offer Applied')\n",
    "else: print('Product Offer Denied')"
   ]
  },
  {
   "cell_type": "markdown",
   "id": "09a01fc7",
   "metadata": {},
   "source": [
    "9. Continue working in the data_types_and_variables.py file. Use the following code to follow the instructions below:\n",
    "\n",
    "- username = 'codeup'\n",
    "- password = 'notastrongpassword'\n",
    "\n",
    "Create a variable that holds a boolean value for each of the following conditions:\n",
    "\n",
    "- The password must be at least 5 characters\n",
    "- The username must be no more than 20 characters\n",
    "- The password must not be the same as the username\n",
    "- <b> Bonus </b> Neither the username or password can start or end with whitespace"
   ]
  },
  {
   "cell_type": "code",
   "execution_count": 104,
   "id": "7fe56123",
   "metadata": {},
   "outputs": [
    {
     "name": "stdout",
     "output_type": "stream",
     "text": [
      "What's your username?that_guy\n",
      "What's your password?123456\n",
      "Great Job!\n"
     ]
    }
   ],
   "source": [
    "username = input(\"What's your username?\")\n",
    "password = input(\"What's your password?\")\n",
    "strong_password = len(password) > 5 \n",
    "reasonable_username =len(username) < 20\n",
    "mimicry_restrained = username != password\n",
    "if strong_password == True and reasonable_username == True and mimicry_restrained == True:\n",
    "    print('Great Job!')\n",
    "else: print ('Try Again!')"
   ]
  }
 ],
 "metadata": {
  "kernelspec": {
   "display_name": "Python 3 (ipykernel)",
   "language": "python",
   "name": "python3"
  },
  "language_info": {
   "codemirror_mode": {
    "name": "ipython",
    "version": 3
   },
   "file_extension": ".py",
   "mimetype": "text/x-python",
   "name": "python",
   "nbconvert_exporter": "python",
   "pygments_lexer": "ipython3",
   "version": "3.11.3"
  }
 },
 "nbformat": 4,
 "nbformat_minor": 5
}
